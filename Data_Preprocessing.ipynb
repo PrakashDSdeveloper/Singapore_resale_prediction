{
  "cells": [
    {
      "cell_type": "code",
      "execution_count": 2,
      "id": "36cfd47c",
      "metadata": {
        "id": "36cfd47c"
      },
      "outputs": [],
      "source": [
        "import glob\n",
        "import pandas as pd\n",
        "import json\n",
        "import requests"
      ]
    },
    {
      "cell_type": "markdown",
      "id": "e4FUFXgjVn_8",
      "metadata": {
        "id": "e4FUFXgjVn_8"
      },
      "source": [
        "# Importing and Loading the datasets"
      ]
    },
    {
      "cell_type": "code",
      "execution_count": 8,
      "id": "92830958",
      "metadata": {
        "colab": {
          "base_uri": "https://localhost:8080/",
          "height": 399
        },
        "id": "92830958",
        "outputId": "1f6a9d10-0609-4c76-ba8c-9e315f9d42bd"
      },
      "outputs": [],
      "source": [
        "# df = pd.concat([pd.read_csv(f) for f in glob.glob(\"./data/*.csv\")], ignore_index=True)\n",
        "# df.head()\n",
        "data_set1 = pd.read_csv(r\"C:\\Users\\praka\\Downloads\\ResaleFlatPricesBasedonRegistrationDateFromMar2012toDec2014.csv\")\n",
        "data_set2 = pd.read_csv(r\"C:\\Users\\praka\\Downloads\\ResaleflatpricesbasedonregistrationdatefromJan2017onwards.csv\")\n",
        "data_set3 = pd.read_csv(r\"C:\\Users\\praka\\Downloads\\ResaleFlatPricesBasedonRegistrationDateFromJan2015toDec2016.csv\")\n",
        "data_set4 = pd.read_csv(r\"C:\\Users\\praka\\Downloads\\ResaleFlatPricesBasedonApprovalDate19901999.csv\")\n",
        "data_set5 = pd.read_csv(r\"C:\\Users\\praka\\Downloads\\ResaleFlatPricesBasedonApprovalDate2000Feb2012.csv\")"
      ]
    },
    {
      "cell_type": "code",
      "execution_count": 9,
      "id": "e9665805",
      "metadata": {},
      "outputs": [],
      "source": [
        "df = pd.concat([data_set1,data_set2,data_set3,data_set4,data_set5])"
      ]
    },
    {
      "cell_type": "code",
      "execution_count": 10,
      "id": "qFQEFowkVwVy",
      "metadata": {
        "colab": {
          "base_uri": "https://localhost:8080/"
        },
        "id": "qFQEFowkVwVy",
        "outputId": "4193a0e0-0fd6-41b3-efcd-9f57aa3216ea"
      },
      "outputs": [
        {
          "data": {
            "text/plain": [
              "(911595, 11)"
            ]
          },
          "execution_count": 10,
          "metadata": {},
          "output_type": "execute_result"
        }
      ],
      "source": [
        "df.shape"
      ]
    },
    {
      "cell_type": "markdown",
      "id": "BOilE84SV2MP",
      "metadata": {
        "id": "BOilE84SV2MP"
      },
      "source": [
        "# Handling Null Values"
      ]
    },
    {
      "cell_type": "code",
      "execution_count": 13,
      "id": "33e48157",
      "metadata": {
        "colab": {
          "base_uri": "https://localhost:8080/"
        },
        "id": "33e48157",
        "outputId": "3d3e36a7-b001-48e7-822a-468412ce7829"
      },
      "outputs": [
        {
          "data": {
            "text/plain": [
              "month                       0\n",
              "town                        0\n",
              "flat_type                   0\n",
              "block                       0\n",
              "street_name                 0\n",
              "storey_range                0\n",
              "floor_area_sqm              0\n",
              "flat_model                  0\n",
              "lease_commence_date         0\n",
              "resale_price                0\n",
              "remaining_lease        709050\n",
              "dtype: int64"
            ]
          },
          "execution_count": 13,
          "metadata": {},
          "output_type": "execute_result"
        }
      ],
      "source": [
        "df.isnull().sum()"
      ]
    },
    {
      "cell_type": "code",
      "execution_count": 14,
      "id": "0d95640d",
      "metadata": {
        "colab": {
          "base_uri": "https://localhost:8080/"
        },
        "id": "0d95640d",
        "outputId": "cc47b41f-2fc4-4e41-d815-8b145aad687b"
      },
      "outputs": [
        {
          "data": {
            "text/plain": [
              "month                  0\n",
              "town                   0\n",
              "flat_type              0\n",
              "block                  0\n",
              "street_name            0\n",
              "storey_range           0\n",
              "floor_area_sqm         0\n",
              "flat_model             0\n",
              "lease_commence_date    0\n",
              "resale_price           0\n",
              "remaining_lease        0\n",
              "dtype: int64"
            ]
          },
          "execution_count": 14,
          "metadata": {},
          "output_type": "execute_result"
        }
      ],
      "source": [
        "# droping remaining_lease missing values\n",
        "df = df.dropna()\n",
        "df.isnull().sum()"
      ]
    },
    {
      "cell_type": "markdown",
      "id": "SUl40LmYV8ld",
      "metadata": {
        "id": "SUl40LmYV8ld"
      },
      "source": [
        "# MRT (Mass Rapid Transit System) Railway Transportation\n",
        "*   Getting MRT coordinates for each city\n",
        "*   so that we can calculate the distance afterwards using MRT coordinates\n",
        "\n"
      ]
    },
    {
      "cell_type": "code",
      "execution_count": 18,
      "id": "1daf7dea",
      "metadata": {},
      "outputs": [
        {
          "name": "stdout",
          "output_type": "stream",
          "text": [
            "['174' '541' '163' ... '182B' '462C' '462B']\n"
          ]
        }
      ],
      "source": [
        "print(df['block'].unique())"
      ]
    },
    {
      "cell_type": "code",
      "execution_count": 15,
      "id": "c0e9dc25",
      "metadata": {
        "colab": {
          "base_uri": "https://localhost:8080/"
        },
        "id": "c0e9dc25",
        "outputId": "bd1493ae-7eea-4e89-a99e-7889f04f50ef"
      },
      "outputs": [
        {
          "data": {
            "text/plain": [
              "array(['ANG MO KIO', 'BEDOK', 'BISHAN', 'BUKIT BATOK', 'BUKIT MERAH',\n",
              "       'BUKIT PANJANG', 'BUKIT TIMAH', 'CENTRAL AREA', 'CHOA CHU KANG',\n",
              "       'CLEMENTI', 'GEYLANG', 'HOUGANG', 'JURONG EAST', 'JURONG WEST',\n",
              "       'KALLANG/WHAMPOA', 'MARINE PARADE', 'PASIR RIS', 'PUNGGOL',\n",
              "       'QUEENSTOWN', 'SEMBAWANG', 'SENGKANG', 'SERANGOON', 'TAMPINES',\n",
              "       'TOA PAYOH', 'WOODLANDS', 'YISHUN'], dtype=object)"
            ]
          },
          "execution_count": 15,
          "metadata": {},
          "output_type": "execute_result"
        }
      ],
      "source": [
        "df['town'].unique()"
      ]
    },
    {
      "cell_type": "code",
      "execution_count": null,
      "id": "47fd976d",
      "metadata": {
        "id": "47fd976d"
      },
      "outputs": [],
      "source": [
        "list_of_mrt = [\n",
        "    'Jurong East MRT Station',\n",
        "    'Bukit Batok MRT Station',\n",
        "    'Bukit Gombak MRT Station',\n",
        "    'Choa Chu Kang MRT Station',\n",
        "    'Yew Tee MRT Station',\n",
        "    'Kranji MRT Station',\n",
        "    'Marsiling MRT Station',\n",
        "    'Woodlands MRT Station',\n",
        "    'Admiralty MRT Station',\n",
        "    'Sembawang MRT Station',\n",
        "    'Canberra MRT Station',\n",
        "    'Yishun MRT Station',\n",
        "    'Khatib MRT Station',\n",
        "    'Yio Chu Kang MRT Station',\n",
        "    'Ang Mo Kio MRT Station',\n",
        "    'Bishan MRT Station',\n",
        "    'Braddell MRT Station',\n",
        "    'Toa Payoh MRT Station',\n",
        "    'Novena MRT Station',\n",
        "    'Newton MRT Station',\n",
        "    'Orchard MRT Station',\n",
        "    'Somerset MRT Station',\n",
        "    'Dhoby Ghaut MRT Station',\n",
        "    'City Hall MRT Station',\n",
        "    'Raffles Place MRT Station',\n",
        "    'Marina Bay MRT Station',\n",
        "    'Marina South Pier MRT Station',\n",
        "    'Pasir Ris MRT Station',\n",
        "    'Tampines MRT Station',\n",
        "    'Simei MRT Station',\n",
        "    'Tanah Merah MRT Station',\n",
        "    'Bedok MRT Station',\n",
        "    'Kembangan MRT Station',\n",
        "    'Eunos MRT Station',\n",
        "    'Paya Lebar MRT Station',\n",
        "    'Aljunied MRT Station',\n",
        "    'Kallang MRT Station',\n",
        "    'Lavender MRT Station',\n",
        "    'Bugis MRT Station',\n",
        "    'Tanjong Pagar MRT Station',\n",
        "    'Outram Park MRT Station',\n",
        "    'Tiong Bahru MRT Station',\n",
        "    'Redhill MRT Station',\n",
        "    'Queenstown MRT Station',\n",
        "    'Commonwealth MRT Station',\n",
        "    'Buona Vista MRT Station',\n",
        "    'Dover MRT Station',\n",
        "    'Clementi MRT Station',\n",
        "    'Chinese Garden MRT Station',\n",
        "    'Lakeside MRT Station',\n",
        "    'Boon Lay MRT Station',\n",
        "    'Pioneer MRT Station',\n",
        "    'Joo Koon MRT Station',\n",
        "    'Gul Circle MRT Station',\n",
        "    'Tuas Crescent MRT Station',\n",
        "    'Tuas West Road MRT Station',\n",
        "    'Tuas Link MRT Station',\n",
        "    'Expo MRT Station',\n",
        "    'Changi Airport MRT Station',\n",
        "    'HarbourFront MRT Station',\n",
        "    'Chinatown MRT Station',\n",
        "    'Clarke Quay MRT Station',\n",
        "    'Little India MRT Station',\n",
        "    'Farrer Park MRT Station',\n",
        "    'Boon Keng MRT Station',\n",
        "    'Potong Pasir MRT Station',\n",
        "    'Woodleigh MRT Station',\n",
        "    'Serangoon MRT Station',\n",
        "    'Kovan MRT Station',\n",
        "    'Hougang MRT Station',\n",
        "    'Buangkok MRT Station',\n",
        "    'Sengkang MRT Station',\n",
        "    'Punggol MRT Station',\n",
        "    'Bras Basah MRT Station',\n",
        "    'Esplanade MRT Station',\n",
        "    'Promenade MRT Station',\n",
        "    'Nicoll Highway MRT Station',\n",
        "    'Stadium MRT Station',\n",
        "    'Mountbatten MRT Station',\n",
        "    'Dakota MRT Station',\n",
        "    'MacPherson MRT Station',\n",
        "    'Tai Seng MRT Station',\n",
        "    'Bartley MRT Station',\n",
        "    'Lorong Chuan MRT Station',\n",
        "    'Marymount MRT Station',\n",
        "    'Caldecott MRT Station',\n",
        "    'Botanic Gardens MRT Station',\n",
        "    'Farrer Road MRT Station',\n",
        "    'Holland Village MRT Station',\n",
        "    'one-north MRT Station',\n",
        "    'Kent Ridge MRT Station',\n",
        "    'Haw Par Villa MRT Station',\n",
        "    'Pasir Panjang MRT Station',\n",
        "    'Labrador Park MRT Station',\n",
        "    'Telok Blangah MRT Station',\n",
        "    'Bayfront MRT Station',\n",
        "    'Bukit Panjang MRT Station',\n",
        "    'Cashew MRT Station',\n",
        "    'Hillview MRT Station',\n",
        "    'Beauty World MRT Station',\n",
        "    'King Albert Park MRT Station',\n",
        "    'Sixth Avenue MRT Station',\n",
        "    'Tan Kah Kee MRT Station',\n",
        "    'Stevens MRT Station',\n",
        "    'Rochor MRT Station',\n",
        "    'Downtown MRT Station',\n",
        "    'Telok Ayer MRT Station',\n",
        "    'Fort Canning MRT Station',\n",
        "    'Bencoolen MRT Station',\n",
        "    'Jalan Besar MRT Station',\n",
        "    'Bendemeer MRT Station',\n",
        "    'Geylang Bahru MRT Station',\n",
        "    'Mattar MRT Station',\n",
        "    'Ubi MRT Station',\n",
        "    'Kaki Bukit MRT Station',\n",
        "    'Bedok North MRT Station',\n",
        "    'Bedok Reservoir MRT Station',\n",
        "    'Tampines West MRT Station',\n",
        "    'Tampines East MRT Station',\n",
        "    'Upper Changi MRT Station',\n",
        "    'Woodlands North MRT Station',\n",
        "    'Woodlands South MRT Station'\n",
        "]"
      ]
    },
    {
      "cell_type": "code",
      "execution_count": null,
      "id": "dd481467",
      "metadata": {
        "colab": {
          "base_uri": "https://localhost:8080/"
        },
        "id": "dd481467",
        "outputId": "64b8efff-3c58-4c00-fd69-daa24be5268f"
      },
      "outputs": [],
      "source": [
        "import requests\n",
        "import json\n",
        "\n",
        "mrt_lat = []\n",
        "mrt_long = []\n",
        "# list_of_mrt = ['MRT Station 1', 'MRT Station 2', 'MRT Station 3']  # Replace this with your actual list of MRT stations\n",
        "\n",
        "for i in range(0, len(list_of_mrt)):\n",
        "    query_address = list_of_mrt[i]\n",
        "    query_string = 'https://developers.onemap.sg/commonapi/search?searchVal='+str(query_address)+'&returnGeom=Y&getAddrDetails=Y'\n",
        "    resp = requests.get(query_string)\n",
        "\n",
        "    try:\n",
        "        data_mrt = json.loads(resp.content)\n",
        "    except json.JSONDecodeError as e:\n",
        "        print(f\"Error decoding JSON for {query_address}: {e}\")\n",
        "        continue\n",
        "\n",
        "    if data_mrt.get('found', 0) != 0:\n",
        "        mrt_lat.append(data_mrt[\"results\"][0][\"LATITUDE\"])\n",
        "        mrt_long.append(data_mrt[\"results\"][0][\"LONGITUDE\"])\n",
        "\n",
        "        print(str(query_address)+\",Lat: \"+data_mrt['results'][0]['LATITUDE']+\" Long: \"+data_mrt['results'][0]['LONGITUDE'])\n",
        "\n",
        "    else:\n",
        "        mrt_lat.append('NotFound')\n",
        "        mrt_long.append('NotFound')\n",
        "        print(\"No Results\")\n"
      ]
    },
    {
      "cell_type": "code",
      "execution_count": null,
      "id": "68097dbf",
      "metadata": {
        "id": "68097dbf"
      },
      "outputs": [],
      "source": [
        "mrt_location = pd.DataFrame({\n",
        "    'MRT': list_of_mrt,\n",
        "    'latitude': mrt_lat,\n",
        "    'longitude': mrt_long\n",
        "})"
      ]
    },
    {
      "cell_type": "markdown",
      "id": "UN_G_srUXVwh",
      "metadata": {
        "id": "UN_G_srUXVwh"
      },
      "source": [
        "# Getting coordinates of each HDB(Housing and Developing Board) Resale flat\n",
        "in order to conduct the distance from MRT stations as well as\n",
        "\n",
        "*   So, that we can take out the distance of flats from MRT stations (Mass Rapid Transit System).\n",
        "*   And, also from CBD (Central Business District).\n"
      ]
    },
    {
      "cell_type": "code",
      "execution_count": null,
      "id": "87ae6950",
      "metadata": {
        "colab": {
          "base_uri": "https://localhost:8080/",
          "height": 877
        },
        "id": "87ae6950",
        "outputId": "48b1ad2b-092e-46d6-f23a-7cd0d801a08e"
      },
      "outputs": [],
      "source": [
        "df['address'] = df['block'] + \" \" + df['street_name']\n",
        "df"
      ]
    },
    {
      "cell_type": "code",
      "execution_count": null,
      "id": "c44f46c3",
      "metadata": {
        "id": "c44f46c3"
      },
      "outputs": [],
      "source": [
        "address_list = df['address'].unique()"
      ]
    },
    {
      "cell_type": "code",
      "execution_count": null,
      "id": "7ff29fe0",
      "metadata": {
        "colab": {
          "base_uri": "https://localhost:8080/"
        },
        "id": "7ff29fe0",
        "outputId": "9b2aba1c-af3e-41cd-d4fd-00cb3a33f897"
      },
      "outputs": [],
      "source": [
        "latitude = []\n",
        "longitude = []\n",
        "blk_no = []\n",
        "road_name = []\n",
        "postal_code = []\n",
        "address = []\n",
        "count = 0\n",
        "\n",
        "for row in range(len(address_list)):\n",
        "    query_address = address_list[row]\n",
        "    query_string='https://developers.onemap.sg/commonapi/search?searchVal='+str(query_address)+'&returnGeom=Y&getAddrDetails=Y'\n",
        "    resp = requests.get(query_string)\n",
        "\n",
        "\n",
        "    data_geo_location=json.loads(resp.content)\n",
        "    if data_geo_location['found'] != 0:\n",
        "        latitude.append(data_geo_location['results'][0]['LATITUDE'])\n",
        "        longitude.append(data_geo_location['results'][0]['LONGITUDE'])\n",
        "        blk_no.append(data_geo_location['results'][0]['BLK_NO'])\n",
        "        road_name.append(data_geo_location['results'][0]['ROAD_NAME'])\n",
        "        postal_code.append(data_geo_location['results'][0]['POSTAL'])\n",
        "        address.append(query_address)\n",
        "        print (str(query_address) + \" ,Lat: \" + data_geo_location['results'][0]['LATITUDE'] + \" Long: \" + data_geo_location['results'][0]['LONGITUDE'])\n",
        "    else:\n",
        "        print (\"No Results\")"
      ]
    },
    {
      "cell_type": "code",
      "execution_count": null,
      "id": "9a616cb1",
      "metadata": {
        "colab": {
          "base_uri": "https://localhost:8080/"
        },
        "id": "9a616cb1",
        "outputId": "b2f512ac-3180-4e87-8950-decde3bfd29f"
      },
      "outputs": [],
      "source": [
        "df_coordinates = pd.DataFrame({\n",
        "    'latitude': latitude,\n",
        "    'longitude': longitude,\n",
        "    'blk_no': blk_no,\n",
        "    'road_name': road_name,\n",
        "    'postal_code': postal_code,\n",
        "    'address': address\n",
        "})\n",
        "len(df_coordinates)"
      ]
    },
    {
      "cell_type": "code",
      "execution_count": null,
      "id": "44a15c97",
      "metadata": {
        "id": "44a15c97"
      },
      "outputs": [],
      "source": [
        "list_of_lat = df_coordinates['latitude']\n",
        "list_of_long = df_coordinates['longitude']\n",
        "mrt_lat = mrt_location['latitude']\n",
        "mrt_long = mrt_location['longitude']"
      ]
    },
    {
      "cell_type": "code",
      "execution_count": null,
      "id": "18224311",
      "metadata": {
        "id": "18224311"
      },
      "outputs": [],
      "source": [
        "list_of_coordinates = []\n",
        "list_of_mrt_coordinates = []\n",
        "\n",
        "for lat, long in zip(list_of_lat, list_of_long):\n",
        "    list_of_coordinates.append((lat,long))\n",
        "for lat, long in zip(mrt_lat, mrt_long):\n",
        "    list_of_mrt_coordinates.append((lat, long))"
      ]
    },
    {
      "cell_type": "markdown",
      "id": "_Ii4e2aDYasY",
      "metadata": {
        "id": "_Ii4e2aDYasY"
      },
      "source": [
        "# Getting the diatnce with the help of OpenMap API"
      ]
    },
    {
      "cell_type": "code",
      "execution_count": null,
      "id": "993da041",
      "metadata": {
        "id": "993da041"
      },
      "outputs": [],
      "source": [
        "# Distance to nearest MRT\n",
        "from geopy.distance import geodesic\n",
        "\n",
        "list_of_dist_mrt = []\n",
        "min_dist_mrt = []\n",
        "\n",
        "for origin in list_of_coordinates:\n",
        "    for destination in range(0, len(list_of_mrt_coordinates)):\n",
        "        list_of_dist_mrt.append(geodesic(origin,list_of_mrt_coordinates[destination]).meters)\n",
        "    shortest = (min(list_of_dist_mrt))\n",
        "    min_dist_mrt.append(shortest)\n",
        "    list_of_dist_mrt.clear()"
      ]
    },
    {
      "cell_type": "code",
      "execution_count": null,
      "id": "24098302",
      "metadata": {
        "id": "24098302"
      },
      "outputs": [],
      "source": [
        "# Distance from CDB\n",
        "cbd_dist = []\n",
        "\n",
        "for origin in list_of_coordinates:\n",
        "    cbd_dist.append(geodesic(origin,(1.2830, 103.8513)).meters) #CBD coordinates"
      ]
    },
    {
      "cell_type": "code",
      "execution_count": null,
      "id": "2955b381",
      "metadata": {
        "id": "2955b381"
      },
      "outputs": [],
      "source": [
        "# Put MRT and CBD distance together\n",
        "df_coordinates['cbd_dist'] = cbd_dist\n",
        "df_coordinates['min_dist_mrt'] = min_dist_mrt"
      ]
    },
    {
      "cell_type": "code",
      "execution_count": null,
      "id": "319f98a0",
      "metadata": {
        "colab": {
          "base_uri": "https://localhost:8080/",
          "height": 458
        },
        "id": "319f98a0",
        "outputId": "754123c7-8446-4e98-b1fd-ab63c0fe2d9d"
      },
      "outputs": [],
      "source": [
        "df_coordinates"
      ]
    },
    {
      "cell_type": "code",
      "execution_count": null,
      "id": "02793fcc",
      "metadata": {
        "id": "02793fcc"
      },
      "outputs": [],
      "source": [
        "df_coordinates.to_csv('df_coordinates.csv',index=False)"
      ]
    },
    {
      "cell_type": "code",
      "execution_count": null,
      "id": "8c1b48f0",
      "metadata": {
        "id": "8c1b48f0"
      },
      "outputs": [],
      "source": [
        "df_coordinates = pd.read_csv('df_coordinates.csv')"
      ]
    },
    {
      "cell_type": "code",
      "execution_count": null,
      "id": "fdccb265",
      "metadata": {
        "colab": {
          "base_uri": "https://localhost:8080/",
          "height": 790
        },
        "id": "fdccb265",
        "outputId": "6e253621-6fd5-4dbe-bb39-e4513d578117"
      },
      "outputs": [],
      "source": [
        "df_new = df_coordinates.merge(df, on=\"address\", how='outer')\n",
        "df_new"
      ]
    },
    {
      "cell_type": "code",
      "execution_count": null,
      "id": "a30e95db",
      "metadata": {
        "colab": {
          "base_uri": "https://localhost:8080/",
          "height": 790
        },
        "id": "a30e95db",
        "outputId": "c48b5fd1-b858-411a-beed-afa5fff28977"
      },
      "outputs": [],
      "source": [
        "df_new['resale_price'] = df_new['resale_price'].astype('float')\n",
        "df_new['floor_area_sqm'] = df_new['floor_area_sqm'].astype('float')\n",
        "df_new['lease_commence_date'] = df_new['lease_commence_date'].astype('int64')\n",
        "df_new['lease_remain_years'] = 99 - (2023 - df_new['lease_commence_date'])\n",
        "\n",
        "df_new.dropna(inplace=True)\n",
        "\n",
        "df_new"
      ]
    },
    {
      "cell_type": "markdown",
      "id": "19KcgtXEYkiF",
      "metadata": {
        "id": "19KcgtXEYkiF"
      },
      "source": [
        "# Final Combined Data"
      ]
    },
    {
      "cell_type": "code",
      "execution_count": null,
      "id": "82ee39c0",
      "metadata": {
        "id": "82ee39c0"
      },
      "outputs": [],
      "source": [
        "df_new.to_csv('combined.csv', index = False)"
      ]
    },
    {
      "cell_type": "code",
      "execution_count": null,
      "id": "26cc8b05",
      "metadata": {},
      "outputs": [],
      "source": [
        "d.head()"
      ]
    },
    {
      "cell_type": "code",
      "execution_count": null,
      "id": "abc9e525",
      "metadata": {},
      "outputs": [],
      "source": [
        "d = pd.read_csv('combined.csv')"
      ]
    }
  ],
  "metadata": {
    "colab": {
      "provenance": []
    },
    "kernelspec": {
      "display_name": "Python 3",
      "language": "python",
      "name": "python3"
    },
    "language_info": {
      "codemirror_mode": {
        "name": "ipython",
        "version": 3
      },
      "file_extension": ".py",
      "mimetype": "text/x-python",
      "name": "python",
      "nbconvert_exporter": "python",
      "pygments_lexer": "ipython3",
      "version": "3.11.5"
    }
  },
  "nbformat": 4,
  "nbformat_minor": 5
}
